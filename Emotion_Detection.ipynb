{
  "nbformat": 4,
  "nbformat_minor": 0,
  "metadata": {
    "accelerator": "GPU",
    "colab": {
      "name": "Emotion Detection.ipynb",
      "provenance": [],
      "collapsed_sections": [
        "VBtspXx95xDQ",
        "LMKL5iKKCFgs",
        "yLDYDV7Z0v3g"
      ],
      "toc_visible": true,
      "mount_file_id": "173l0-n9SmtP9I23s_LNxM1a5_IGZug7_",
      "authorship_tag": "ABX9TyMw2YeXxDLuNYcWcQ8uTLfd",
      "include_colab_link": true
    },
    "kernelspec": {
      "display_name": "Python 3",
      "name": "python3"
    }
  },
  "cells": [
    {
      "cell_type": "markdown",
      "metadata": {
        "id": "view-in-github",
        "colab_type": "text"
      },
      "source": [
        "<a href=\"https://colab.research.google.com/github/Nichlas0403/DL_Multi-Classification_Human-Emotion-Detection/blob/main/Emotion_Detection.ipynb\" target=\"_parent\"><img src=\"https://colab.research.google.com/assets/colab-badge.svg\" alt=\"Open In Colab\"/></a>"
      ]
    },
    {
      "cell_type": "markdown",
      "metadata": {
        "id": "dev9JJ4uzVt3"
      },
      "source": [
        "#Recap of this notebook\n",
        "This notebook attempt to create a convolutional neural network which is able to predict an emotion, given an image of a persons face.\n",
        "\n",
        "Data\n",
        "The data has been provided by kaggle\n",
        "https://www.kaggle.com/ananthu017/emotion-detection-fer"
      ]
    },
    {
      "cell_type": "code",
      "metadata": {
        "id": "piJ-R3sTz7v3"
      },
      "source": [
        "#Load tools\n",
        "import numpy as np\n",
        "import pandas as pd\n",
        "import matplotlib.pyplot as plt\n",
        "%matplotlib inline\n",
        "import tensorflow as tf\n",
        "from keras.preprocessing import image\n",
        "import os\n",
        "import random"
      ],
      "execution_count": null,
      "outputs": []
    },
    {
      "cell_type": "markdown",
      "metadata": {
        "id": "_vbS6oXZ0AtQ"
      },
      "source": [
        "#Image showcase"
      ]
    },
    {
      "cell_type": "markdown",
      "metadata": {
        "id": "_el38UCt0OoK"
      },
      "source": [
        "##Display image of each emotion"
      ]
    },
    {
      "cell_type": "code",
      "metadata": {
        "colab": {
          "base_uri": "https://localhost:8080/",
          "height": 142
        },
        "id": "um6WIzVQ0Ran",
        "outputId": "13beb8df-296b-4897-9b75-9ed323f91037"
      },
      "source": [
        "#angry\n",
        "image.load_img(\"/content/drive/MyDrive/Data Science, Machine Learning/Colab Notebooks/Deep Learning Projects/Image Recognition/Emotion Detection/Data/train/angry/im3.png\",\n",
        "               target_size=(125,125))"
      ],
      "execution_count": null,
      "outputs": [
        {
          "output_type": "execute_result",
          "data": {
            "image/png": "[encoded data removed]",
            "text/plain": [
              "<PIL.Image.Image image mode=RGB size=125x125 at 0x7FB45EBDCA50>"
            ]
          },
          "metadata": {
            "tags": []
          },
          "execution_count": 2
        }
      ]
    },
    {
      "cell_type": "code",
      "metadata": {
        "colab": {
          "base_uri": "https://localhost:8080/",
          "height": 142
        },
        "id": "3NPYTSEW02Cz",
        "outputId": "65ea8660-d096-429e-cef1-a28b444fef4e"
      },
      "source": [
        "#disgusted\n",
        "image.load_img(\"/content/drive/MyDrive/Data Science, Machine Learning/Colab Notebooks/Deep Learning Projects/Image Recognition/Emotion Detection/Data/train/disgusted/im2.png\",\n",
        "               target_size=(125,125))"
      ],
      "execution_count": null,
      "outputs": [
        {
          "output_type": "execute_result",
          "data": {
            "image/png": "[encoded data removed]",
            "text/plain": [
              "<PIL.Image.Image image mode=RGB size=125x125 at 0x7FB41F115C90>"
            ]
          },
          "metadata": {
            "tags": []
          },
          "execution_count": 3
        }
      ]
    },
    {
      "cell_type": "code",
      "metadata": {
        "colab": {
          "base_uri": "https://localhost:8080/",
          "height": 142
        },
        "id": "ExmKsbcp1Dda",
        "outputId": "e0c9411c-8fab-430d-9e31-dff189929216"
      },
      "source": [
        "#fearful\n",
        "image.load_img(\"/content/drive/MyDrive/Data Science, Machine Learning/Colab Notebooks/Deep Learning Projects/Image Recognition/Emotion Detection/Data/train/fearful/im2.png\",\n",
        "               target_size=(125,125))"
      ],
      "execution_count": null,
      "outputs": [
        {
          "output_type": "execute_result",
          "data": {
            "image/png": "[encoded data removed]",
            "text/plain": [
              "<PIL.Image.Image image mode=RGB size=125x125 at 0x7FB45BE21910>"
            ]
          },
          "metadata": {
            "tags": []
          },
          "execution_count": 4
        }
      ]
    },
    {
      "cell_type": "code",
      "metadata": {
        "colab": {
          "base_uri": "https://localhost:8080/",
          "height": 142
        },
        "id": "-fxRhA3F1N92",
        "outputId": "a5ae6ace-3e04-4bd4-f718-bc0359e638c4"
      },
      "source": [
        "#happy\n",
        "image.load_img(\"/content/drive/MyDrive/Data Science, Machine Learning/Colab Notebooks/Deep Learning Projects/Image Recognition/Emotion Detection/Data/train/happy/im2.png\",\n",
        "               target_size=(125,125))"
      ],
      "execution_count": null,
      "outputs": [
        {
          "output_type": "execute_result",
          "data": {
            "image/png": "[encoded data removed]",
            "text/plain": [
              "<PIL.Image.Image image mode=RGB size=125x125 at 0x7FB45BE026D0>"
            ]
          },
          "metadata": {
            "tags": []
          },
          "execution_count": 5
        }
      ]
    },
    {
      "cell_type": "code",
      "metadata": {
        "colab": {
          "base_uri": "https://localhost:8080/",
          "height": 142
        },
        "id": "VSzyb7vt1Zkh",
        "outputId": "54eb8d83-0c83-47e3-e725-5e34e7d71dc0"
      },
      "source": [
        "#neutral\n",
        "image.load_img(\"/content/drive/MyDrive/Data Science, Machine Learning/Colab Notebooks/Deep Learning Projects/Image Recognition/Emotion Detection/Data/train/neutral/im1.png\",\n",
        "               target_size=(125,125))"
      ],
      "execution_count": null,
      "outputs": [
        {
          "output_type": "execute_result",
          "data": {
            "image/png": "[encoded data removed]",
            "text/plain": [
              "<PIL.Image.Image image mode=RGB size=125x125 at 0x7FB41F128A50>"
            ]
          },
          "metadata": {
            "tags": []
          },
          "execution_count": 6
        }
      ]
    },
    {
      "cell_type": "code",
      "metadata": {
        "colab": {
          "base_uri": "https://localhost:8080/",
          "height": 142
        },
        "id": "537_IyYh1cV3",
        "outputId": "3736542f-e95b-454d-f89b-d26dfbe77785"
      },
      "source": [
        "#sad\n",
        "image.load_img(\"/content/drive/MyDrive/Data Science, Machine Learning/Colab Notebooks/Deep Learning Projects/Image Recognition/Emotion Detection/Data/train/sad/im1.png\",\n",
        "               target_size=(125,125))"
      ],
      "execution_count": null,
      "outputs": [
        {
          "output_type": "execute_result",
          "data": {
            "image/png": "[encoded data removed]",
            "text/plain": [
              "<PIL.Image.Image image mode=RGB size=125x125 at 0x7FB41F128B90>"
            ]
          },
          "metadata": {
            "tags": []
          },
          "execution_count": 7
        }
      ]
    },
    {
      "cell_type": "code",
      "metadata": {
        "colab": {
          "base_uri": "https://localhost:8080/",
          "height": 142
        },
        "id": "6sMINb691fxc",
        "outputId": "adfadf3f-7eb5-404c-b0b0-e660e1a3f3a9"
      },
      "source": [
        "#surprised\n",
        "image.load_img(\"/content/drive/MyDrive/Data Science, Machine Learning/Colab Notebooks/Deep Learning Projects/Image Recognition/Emotion Detection/Data/train/surprised/im1.png\",\n",
        "               target_size=(125,125))"
      ],
      "execution_count": null,
      "outputs": [
        {
          "output_type": "execute_result",
          "data": {
            "image/png": "[encoded data removed]",
            "text/plain": [
              "<PIL.Image.Image image mode=RGB size=125x125 at 0x7FB41F12F5D0>"
            ]
          },
          "metadata": {
            "tags": []
          },
          "execution_count": 8
        }
      ]
    },
    {
      "cell_type": "markdown",
      "metadata": {
        "id": "CuzO2Pye1jkz"
      },
      "source": [
        "#Data augmentation\n",
        "\n",
        "The follwing augmentation will be done to the data during training:\n",
        "- rescale=1./255 rescales image\n",
        "- rotation_range=40, randomly rotates \n",
        "- zoom_range=0.2, randomly zooms\n",
        "- width_shift_range=0.2, randomly move pixels horizontally\n",
        "- height_shift_range=0.2, randomly move pixels vertically\n",
        "- horizontal_flip=True, randomly flips images horizontally\n",
        "- fill_mode=\"nearest\" fills missing pixels with their nearest neightbours"
      ]
    },
    {
      "cell_type": "markdown",
      "metadata": {
        "id": "LhfBxXLr1xoS"
      },
      "source": [
        "##Show augmented image"
      ]
    },
    {
      "cell_type": "code",
      "metadata": {
        "colab": {
          "base_uri": "https://localhost:8080/",
          "height": 142
        },
        "id": "od2llc803kly",
        "outputId": "9156414c-64f9-40d2-c63f-e74d372d1868"
      },
      "source": [
        "#Original image\n",
        "original = image.load_img(\"/content/drive/MyDrive/Data Science, Machine Learning/Colab Notebooks/Deep Learning Projects/Image Recognition/Emotion Detection/Data/train/disgusted/im2.png\",\n",
        "               target_size=(125,125))\n",
        "\n",
        "original"
      ],
      "execution_count": null,
      "outputs": [
        {
          "output_type": "execute_result",
          "data": {
            "image/png": "[encoded data removed]",
            "text/plain": [
              "<PIL.Image.Image image mode=RGB size=125x125 at 0x7FB41F12FD90>"
            ]
          },
          "metadata": {
            "tags": []
          },
          "execution_count": 9
        }
      ]
    },
    {
      "cell_type": "code",
      "metadata": {
        "id": "52pISXLY2MKJ"
      },
      "source": [
        "generator = tf.keras.preprocessing.image.ImageDataGenerator(\n",
        "    rescale=1./255, #rescales image - this is done after augmentation\n",
        "    rotation_range=40, #randomly rotates \n",
        "    zoom_range=0.2, #randomly zooms\n",
        "    width_shift_range=0.2, #randomly move pixels horizontally\n",
        "    height_shift_range=0.2, #randomly move pixels vertically\n",
        "    horizontal_flip=True, #randomly flips images horizontallyt\n",
        "    fill_mode=\"nearest\" #fills missing pixels with their nearest neightbours\n",
        ")"
      ],
      "execution_count": null,
      "outputs": []
    },
    {
      "cell_type": "code",
      "metadata": {
        "id": "S4F4QTbd3wyd"
      },
      "source": [
        "aug_images = []\n",
        "counter = 0\n",
        "for batch in generator.flow(np.expand_dims(original,0),\n",
        "                            batch_size=5,\n",
        "                            save_format=\"jpeg\",\n",
        "                            seed=42):\n",
        "  \n",
        "  aug_images.append(batch)\n",
        "  if len(aug_images) == 5:\n",
        "    break"
      ],
      "execution_count": null,
      "outputs": []
    },
    {
      "cell_type": "code",
      "metadata": {
        "colab": {
          "base_uri": "https://localhost:8080/",
          "height": 142
        },
        "id": "QYtlTRh_36k0",
        "outputId": "0941f399-c7c3-4234-98a3-84b8c77af29f"
      },
      "source": [
        "image.array_to_img(np.squeeze(aug_images[0],axis=0))"
      ],
      "execution_count": null,
      "outputs": [
        {
          "output_type": "execute_result",
          "data": {
            "image/png": "[encoded data removed]",
            "text/plain": [
              "<PIL.Image.Image image mode=RGB size=125x125 at 0x7FB41F1391D0>"
            ]
          },
          "metadata": {
            "tags": []
          },
          "execution_count": 19
        }
      ]
    },
    {
      "cell_type": "code",
      "metadata": {
        "colab": {
          "base_uri": "https://localhost:8080/",
          "height": 142
        },
        "id": "Sd3pO6i34BWT",
        "outputId": "8b869ade-4a7b-4466-89dd-cae7215e3285"
      },
      "source": [
        "image.array_to_img(np.squeeze(aug_images[1],axis=0))"
      ],
      "execution_count": null,
      "outputs": [
        {
          "output_type": "execute_result",
          "data": {
            "image/png": "[encoded data removed]",
            "text/plain": [
              "<PIL.Image.Image image mode=RGB size=125x125 at 0x7FB41F121910>"
            ]
          },
          "metadata": {
            "tags": []
          },
          "execution_count": 20
        }
      ]
    },
    {
      "cell_type": "code",
      "metadata": {
        "colab": {
          "base_uri": "https://localhost:8080/",
          "height": 142
        },
        "id": "SIugL18O4Clj",
        "outputId": "bca167a0-a487-440c-c3bb-ee531fecbc50"
      },
      "source": [
        "image.array_to_img(np.squeeze(aug_images[2],axis=0))"
      ],
      "execution_count": null,
      "outputs": [
        {
          "output_type": "execute_result",
          "data": {
            "image/png": "[encoded data removed]",
            "text/plain": [
              "<PIL.Image.Image image mode=RGB size=125x125 at 0x7FB41F0DB710>"
            ]
          },
          "metadata": {
            "tags": []
          },
          "execution_count": 21
        }
      ]
    },
    {
      "cell_type": "code",
      "metadata": {
        "colab": {
          "base_uri": "https://localhost:8080/",
          "height": 142
        },
        "id": "73jEFj1Y4JXH",
        "outputId": "b2662967-06b9-4683-f3d1-d97c72aac8f9"
      },
      "source": [
        "image.array_to_img(np.squeeze(aug_images[3],axis=0))"
      ],
      "execution_count": null,
      "outputs": [
        {
          "output_type": "execute_result",
          "data": {
            "image/png": "[encoded data removed]",
            "text/plain": [
              "<PIL.Image.Image image mode=RGB size=125x125 at 0x7FB41F0DB910>"
            ]
          },
          "metadata": {
            "tags": []
          },
          "execution_count": 22
        }
      ]
    },
    {
      "cell_type": "code",
      "metadata": {
        "colab": {
          "base_uri": "https://localhost:8080/",
          "height": 142
        },
        "id": "z27tprSG4Dy5",
        "outputId": "659937ed-4823-4672-d39a-4473e1e2bdae"
      },
      "source": [
        "image.array_to_img(np.squeeze(aug_images[4],axis=0))"
      ],
      "execution_count": null,
      "outputs": [
        {
          "output_type": "execute_result",
          "data": {
            "image/png": "[encoded data removed]",
            "text/plain": [
              "<PIL.Image.Image image mode=RGB size=125x125 at 0x7FB41F0EB8D0>"
            ]
          },
          "metadata": {
            "tags": []
          },
          "execution_count": 23
        }
      ]
    },
    {
      "cell_type": "markdown",
      "metadata": {
        "id": "XEyC44wZ4V7g"
      },
      "source": [
        "#Iteration 1"
      ]
    },
    {
      "cell_type": "markdown",
      "metadata": {
        "id": "pHvboxn74XAg"
      },
      "source": [
        "##Data preparation\n"
      ]
    },
    {
      "cell_type": "code",
      "metadata": {
        "id": "xid3kkL-4h2W"
      },
      "source": [
        "train_gen = tf.keras.preprocessing.image.ImageDataGenerator(\n",
        "    rescale=1./255, #rescales image - this is done after augmentation\n",
        "    rotation_range=40, #randomly rotates \n",
        "    zoom_range=0.2, #randomly zooms\n",
        "    width_shift_range=0.2, #randomly move pixels horizontally\n",
        "    height_shift_range=0.2, #randomly move pixels vertically\n",
        "    horizontal_flip=True, #randomly flips images horizontallyt\n",
        "    fill_mode=\"nearest\" #fills missing pixels with their nearest neightbours\n",
        ")"
      ],
      "execution_count": null,
      "outputs": []
    },
    {
      "cell_type": "code",
      "metadata": {
        "colab": {
          "base_uri": "https://localhost:8080/"
        },
        "id": "PKU_P2qM4nyt",
        "outputId": "0f2796e6-81cc-48ea-e4b1-5bc90be70b00"
      },
      "source": [
        "X = train_gen.flow_from_directory(\n",
        "    \"/content/drive/MyDrive/Data Science, Machine Learning/Colab Notebooks/Deep Learning Projects/Image Recognition/Emotion Detection/Data/train\",\n",
        "    target_size=(224,224),\n",
        "    color_mode=\"grayscale\",\n",
        "    batch_size=32,\n",
        "    classes={'angry': 'angry',\n",
        "             \"disgusted\":\"disgusted\",\n",
        "             \"fearful\":\"fearful\",\n",
        "             \"happy\":\"happy\",\n",
        "             \"neutral\":\"neutral\",\n",
        "             \"sad\":\"sad\",\n",
        "             \"surprised\":\"surprised\"})"
      ],
      "execution_count": null,
      "outputs": [
        {
          "output_type": "stream",
          "text": [
            "Found 28710 images belonging to 7 classes.\n"
          ],
          "name": "stdout"
        }
      ]
    },
    {
      "cell_type": "code",
      "metadata": {
        "id": "ImjsDw184_jb"
      },
      "source": [
        "validation_generator = tf.keras.preprocessing.image.ImageDataGenerator(\n",
        "    rescale=1./255\n",
        ")"
      ],
      "execution_count": null,
      "outputs": []
    },
    {
      "cell_type": "code",
      "metadata": {
        "colab": {
          "base_uri": "https://localhost:8080/"
        },
        "id": "IPskaFPc5HQL",
        "outputId": "a59754e9-719c-4a38-9aed-f5465b51c5ef"
      },
      "source": [
        "val_data = validation_generator.flow_from_directory(\n",
        "    \"/content/drive/MyDrive/Data Science, Machine Learning/Colab Notebooks/Deep Learning Projects/Image Recognition/Emotion Detection/Data/test\",\n",
        "    target_size=(224,224),\n",
        "    color_mode=\"grayscale\",\n",
        "    batch_size=32,\n",
        "    classes={'angry': 1,\n",
        "             \"disgusted\":\"disgusted\",\n",
        "             \"fearful\":\"fearful\",\n",
        "             \"happy\":\"happy\",\n",
        "             \"neutral\":\"neutral\",\n",
        "             \"sad\":\"sad\",\n",
        "             \"surprised\":\"surprised\"})"
      ],
      "execution_count": null,
      "outputs": [
        {
          "output_type": "stream",
          "text": [
            "Found 7178 images belonging to 7 classes.\n"
          ],
          "name": "stdout"
        }
      ]
    },
    {
      "cell_type": "markdown",
      "metadata": {
        "id": "1UhHJYA25R9r"
      },
      "source": [
        "##Modelling"
      ]
    },
    {
      "cell_type": "markdown",
      "metadata": {
        "id": "egNuef4Y5aBo"
      },
      "source": [
        "###Create CNN"
      ]
    },
    {
      "cell_type": "code",
      "metadata": {
        "id": "FS5C0MBW5lEE"
      },
      "source": [
        "from tensorflow.keras.models import Sequential\n",
        "from tensorflow.keras.layers import Conv2D, MaxPool2D, Flatten, Dense, Dropout, BatchNormalization, GaussianNoise, Input\n",
        "from keras import regularizers"
      ],
      "execution_count": null,
      "outputs": []
    },
    {
      "cell_type": "code",
      "metadata": {
        "id": "w5sS3EVX5bt8"
      },
      "source": [
        "CNN = Sequential([\n",
        "                  Input(shape=[224,224,1]),\n",
        "                  GaussianNoise(0.1),\n",
        "                  Conv2D(filters=32, kernel_size=3,activation=\"relu\"),\n",
        "                  BatchNormalization(),\n",
        "                  MaxPool2D(pool_size=2, strides=2),\n",
        "                  Conv2D(filters=32, kernel_size=3, activation=\"relu\"),\n",
        "                  BatchNormalization(),\n",
        "                  MaxPool2D(pool_size=2, strides=2),\n",
        "                  Conv2D(filters=32, kernel_size=3, activation=\"relu\"),\n",
        "                  BatchNormalization(),\n",
        "                  MaxPool2D(pool_size=2, strides=2),\n",
        "                  Flatten(),\n",
        "                  Dense(units=4180, activation=\"relu\"), \n",
        "                  Dropout(0.2),\n",
        "                  Dense(units=4180, activation=\"relu\"),\n",
        "                  Dropout(0.2),\n",
        "                  Dense(units=7, activation=\"softmax\")\n",
        "]\n",
        ")"
      ],
      "execution_count": null,
      "outputs": []
    },
    {
      "cell_type": "markdown",
      "metadata": {
        "id": "VBtspXx95xDQ"
      },
      "source": [
        "###Compile CNN"
      ]
    },
    {
      "cell_type": "code",
      "metadata": {
        "id": "6RPlXsSx50nH"
      },
      "source": [
        "CNN.compile(optimizer=\"adam\", loss=\"categorical_crossentropy\", metrics=[\"accuracy\"])"
      ],
      "execution_count": null,
      "outputs": []
    },
    {
      "cell_type": "markdown",
      "metadata": {
        "id": "Yg6RW5XI509s"
      },
      "source": [
        "###Train CNN"
      ]
    },
    {
      "cell_type": "code",
      "metadata": {
        "colab": {
          "base_uri": "https://localhost:8080/"
        },
        "id": "jGKFKKJS52yd",
        "outputId": "8c7d37d3-fb5b-4fe8-8d58-bce6fffc83ea"
      },
      "source": [
        "CNN.fit(x=X, validation_data=val_data, epochs=25)"
      ],
      "execution_count": null,
      "outputs": [
        {
          "output_type": "stream",
          "text": [
            "Epoch 1/25\n",
            "898/898 [==============================] - 14455s 16s/step - loss: 6.4946 - accuracy: 0.2089 - val_loss: 8.1556 - val_accuracy: 0.2381\n",
            "Epoch 2/25\n",
            "898/898 [==============================] - 220s 244ms/step - loss: 1.8210 - accuracy: 0.2480 - val_loss: 5.7696 - val_accuracy: 0.2317\n",
            "Epoch 3/25\n",
            "898/898 [==============================] - 216s 240ms/step - loss: 1.8215 - accuracy: 0.2486 - val_loss: 1.8241 - val_accuracy: 0.2471\n",
            "Epoch 4/25\n",
            "898/898 [==============================] - 215s 240ms/step - loss: 1.8093 - accuracy: 0.2461 - val_loss: 3.3817 - val_accuracy: 0.1737\n",
            "Epoch 5/25\n",
            "898/898 [==============================] - 217s 242ms/step - loss: 1.8903 - accuracy: 0.2459 - val_loss: 2.2921 - val_accuracy: 0.2342\n",
            "Epoch 6/25\n",
            "898/898 [==============================] - 217s 242ms/step - loss: 1.8131 - accuracy: 0.2509 - val_loss: 2.1981 - val_accuracy: 0.1726\n",
            "Epoch 7/25\n",
            "898/898 [==============================] - 216s 240ms/step - loss: 1.8033 - accuracy: 0.2487 - val_loss: 2.5329 - val_accuracy: 0.1907\n",
            "Epoch 8/25\n",
            "898/898 [==============================] - 213s 238ms/step - loss: 1.8252 - accuracy: 0.2489 - val_loss: 14.2772 - val_accuracy: 0.1669\n",
            "Epoch 9/25\n",
            "898/898 [==============================] - 221s 245ms/step - loss: 1.8085 - accuracy: 0.2531 - val_loss: 2.1081 - val_accuracy: 0.2497\n",
            "Epoch 10/25\n",
            "898/898 [==============================] - 216s 241ms/step - loss: 1.8066 - accuracy: 0.2520 - val_loss: 7.6041 - val_accuracy: 0.1924\n",
            "Epoch 11/25\n",
            "898/898 [==============================] - 216s 240ms/step - loss: 1.8032 - accuracy: 0.2535 - val_loss: 2.2472 - val_accuracy: 0.1782\n",
            "Epoch 12/25\n",
            "898/898 [==============================] - 214s 239ms/step - loss: 1.8082 - accuracy: 0.2476 - val_loss: 3.7464 - val_accuracy: 0.2399\n",
            "Epoch 13/25\n",
            "898/898 [==============================] - 214s 239ms/step - loss: 1.8092 - accuracy: 0.2499 - val_loss: 2.1419 - val_accuracy: 0.2055\n",
            "Epoch 14/25\n",
            "898/898 [==============================] - 212s 236ms/step - loss: 1.8051 - accuracy: 0.2523 - val_loss: 3.7343 - val_accuracy: 0.1793\n",
            "Epoch 15/25\n",
            "898/898 [==============================] - 211s 234ms/step - loss: 1.8050 - accuracy: 0.2519 - val_loss: 5.0925 - val_accuracy: 0.1740\n",
            "Epoch 16/25\n",
            "898/898 [==============================] - 218s 242ms/step - loss: 1.8061 - accuracy: 0.2563 - val_loss: 3.1891 - val_accuracy: 0.2230\n",
            "Epoch 17/25\n",
            "898/898 [==============================] - 218s 243ms/step - loss: 1.7988 - accuracy: 0.2546 - val_loss: 2.6636 - val_accuracy: 0.2112\n",
            "Epoch 18/25\n",
            "898/898 [==============================] - 219s 243ms/step - loss: 1.7972 - accuracy: 0.2604 - val_loss: 1.7993 - val_accuracy: 0.2516\n",
            "Epoch 19/25\n",
            "898/898 [==============================] - 217s 242ms/step - loss: 1.7893 - accuracy: 0.2586 - val_loss: 1.7674 - val_accuracy: 0.2586\n",
            "Epoch 20/25\n",
            "898/898 [==============================] - 218s 242ms/step - loss: 1.7896 - accuracy: 0.2631 - val_loss: 2.3255 - val_accuracy: 0.2359\n",
            "Epoch 21/25\n",
            "898/898 [==============================] - 220s 245ms/step - loss: 1.7843 - accuracy: 0.2569 - val_loss: 1.7569 - val_accuracy: 0.2683\n",
            "Epoch 22/25\n",
            "898/898 [==============================] - 218s 243ms/step - loss: 1.7848 - accuracy: 0.2618 - val_loss: 1.9876 - val_accuracy: 0.2534\n",
            "Epoch 23/25\n",
            "898/898 [==============================] - 216s 240ms/step - loss: 1.7773 - accuracy: 0.2665 - val_loss: 2.2857 - val_accuracy: 0.1793\n",
            "Epoch 24/25\n",
            "898/898 [==============================] - 213s 237ms/step - loss: 1.7691 - accuracy: 0.2671 - val_loss: 1.7333 - val_accuracy: 0.2860\n",
            "Epoch 25/25\n",
            "898/898 [==============================] - 212s 236ms/step - loss: 1.7619 - accuracy: 0.2764 - val_loss: 1.7288 - val_accuracy: 0.2903\n"
          ],
          "name": "stdout"
        },
        {
          "output_type": "execute_result",
          "data": {
            "text/plain": [
              "<tensorflow.python.keras.callbacks.History at 0x7f0cf417b0d0>"
            ]
          },
          "metadata": {
            "tags": []
          },
          "execution_count": 24
        }
      ]
    },
    {
      "cell_type": "code",
      "metadata": {
        "colab": {
          "base_uri": "https://localhost:8080/"
        },
        "id": "EPOksngS58_S",
        "outputId": "b6864f42-80f3-4b7b-8edc-42ecb178e47c"
      },
      "source": [
        "CNN.save(\"/content/drive/MyDrive/Data Science, Machine Learning/Colab Notebooks/Deep Learning Projects/Image Recognition/Emotion Detection/Models/baseline_model\")"
      ],
      "execution_count": null,
      "outputs": [
        {
          "output_type": "stream",
          "text": [
            "INFO:tensorflow:Assets written to: /content/drive/MyDrive/Data Science, Machine Learning/Colab Notebooks/Deep Learning Projects/Image Recognition/Emotion Detection/Models/baseline_model/assets\n"
          ],
          "name": "stdout"
        }
      ]
    },
    {
      "cell_type": "markdown",
      "metadata": {
        "id": "t5ZHquiL28Gj"
      },
      "source": [
        "###Evaluation \n",
        "\n",
        "The model is underfitting. I will try to increase the complexity of the model."
      ]
    },
    {
      "cell_type": "markdown",
      "metadata": {
        "id": "aXnS8DurCEry"
      },
      "source": [
        "#Iteration 2 (increase complexity of the model)\n",
        "\n",
        "Reduce input size of images to 64,64 and increase complexity of CNN by adding one additional dense layer."
      ]
    },
    {
      "cell_type": "markdown",
      "metadata": {
        "id": "-_uiykF_CFgo"
      },
      "source": [
        "##Data preparation\n",
        "\n",
        "I will add the data augmentations to the loaded image. If this doesn't work, I might increase the size of the dataset using augmentations."
      ]
    },
    {
      "cell_type": "code",
      "metadata": {
        "id": "dzFxIRqUCFgo"
      },
      "source": [
        "train_gen = tf.keras.preprocessing.image.ImageDataGenerator(\n",
        "    rescale=1./255, #rescales image - this is done after augmentation\n",
        "    rotation_range=40, #randomly rotates \n",
        "    zoom_range=0.2, #randomly zooms\n",
        "    width_shift_range=0.2, #randomly move pixels horizontally\n",
        "    height_shift_range=0.2, #randomly move pixels vertically\n",
        "    horizontal_flip=True, #randomly flips images horizontallyt\n",
        "    fill_mode=\"nearest\" #fills missing pixels with their nearest neightbours\n",
        ")"
      ],
      "execution_count": null,
      "outputs": []
    },
    {
      "cell_type": "code",
      "metadata": {
        "colab": {
          "base_uri": "https://localhost:8080/"
        },
        "id": "QL-GK04iCFgp",
        "outputId": "916db3d2-8670-4d6f-f591-30da9f260e2d"
      },
      "source": [
        "X = train_gen.flow_from_directory(\n",
        "    \"/content/drive/MyDrive/Data Science, Machine Learning/Colab Notebooks/Deep Learning Projects/Image Recognition/Emotion Detection/Data/train\",\n",
        "    target_size=(64,64), #resize for faster training\n",
        "    color_mode=\"grayscale\",\n",
        "    batch_size=32,\n",
        "    classes={'angry': 'angry',\n",
        "             \"disgusted\":\"disgusted\",\n",
        "             \"fearful\":\"fearful\",\n",
        "             \"happy\":\"happy\",\n",
        "             \"neutral\":\"neutral\",\n",
        "             \"sad\":\"sad\",\n",
        "             \"surprised\":\"surprised\"})"
      ],
      "execution_count": null,
      "outputs": [
        {
          "output_type": "stream",
          "text": [
            "Found 28710 images belonging to 7 classes.\n"
          ],
          "name": "stdout"
        }
      ]
    },
    {
      "cell_type": "code",
      "metadata": {
        "id": "QBlLW_nhCFgq"
      },
      "source": [
        "validation_generator = tf.keras.preprocessing.image.ImageDataGenerator(\n",
        "    rescale=1./255\n",
        ")"
      ],
      "execution_count": null,
      "outputs": []
    },
    {
      "cell_type": "code",
      "metadata": {
        "colab": {
          "base_uri": "https://localhost:8080/"
        },
        "id": "PAhj98ytCFgq",
        "outputId": "7233e0b8-4327-47a6-e65c-19eb5d7d5302"
      },
      "source": [
        "val_data = validation_generator.flow_from_directory(\n",
        "    \"/content/drive/MyDrive/Data Science, Machine Learning/Colab Notebooks/Deep Learning Projects/Image Recognition/Emotion Detection/Data/test\",\n",
        "    target_size=(64,64),\n",
        "    color_mode=\"grayscale\",\n",
        "    batch_size=32,\n",
        "    classes={'angry': 1,\n",
        "             \"disgusted\":\"disgusted\",\n",
        "             \"fearful\":\"fearful\",\n",
        "             \"happy\":\"happy\",\n",
        "             \"neutral\":\"neutral\",\n",
        "             \"sad\":\"sad\",\n",
        "             \"surprised\":\"surprised\"})"
      ],
      "execution_count": null,
      "outputs": [
        {
          "output_type": "stream",
          "text": [
            "Found 7178 images belonging to 7 classes.\n"
          ],
          "name": "stdout"
        }
      ]
    },
    {
      "cell_type": "markdown",
      "metadata": {
        "id": "l0xGH_ElCFgr"
      },
      "source": [
        "##Modelling"
      ]
    },
    {
      "cell_type": "markdown",
      "metadata": {
        "id": "t4MyoHlxCFgr"
      },
      "source": [
        "###Create CNN"
      ]
    },
    {
      "cell_type": "code",
      "metadata": {
        "id": "2QCSdE7GCFgr"
      },
      "source": [
        "from tensorflow.keras.models import Sequential\n",
        "from tensorflow.keras.layers import Conv2D, MaxPool2D, Flatten, Dense, Dropout, BatchNormalization, GaussianNoise, Input\n",
        "from keras import regularizers"
      ],
      "execution_count": null,
      "outputs": []
    },
    {
      "cell_type": "code",
      "metadata": {
        "id": "_fHOYvs4CFgs"
      },
      "source": [
        "CNN = Sequential([\n",
        "                  Input(shape=[64,64,1]),\n",
        "                  GaussianNoise(0.1),\n",
        "                  Conv2D(filters=32, kernel_size=3,activation=\"relu\"),\n",
        "                  BatchNormalization(),\n",
        "                  MaxPool2D(pool_size=2, strides=2),\n",
        "                  Conv2D(filters=32, kernel_size=3, activation=\"relu\"),\n",
        "                  BatchNormalization(),\n",
        "                  MaxPool2D(pool_size=2, strides=2),\n",
        "                  Conv2D(filters=32, kernel_size=3, activation=\"relu\"),\n",
        "                  BatchNormalization(),\n",
        "                  MaxPool2D(pool_size=2, strides=2),\n",
        "                  Flatten(),\n",
        "                  Dense(units=4180, activation=\"relu\"),\n",
        "                  Dense(units=4180, activation=\"relu\"),  \n",
        "                  #Dropout(0.2), #remove dropout since its underfitting\n",
        "                  Dense(units=4180, activation=\"relu\"),\n",
        "                  #Dropout(0.2),\n",
        "                  Dense(units=7, activation=\"softmax\")\n",
        "]\n",
        ")"
      ],
      "execution_count": null,
      "outputs": []
    },
    {
      "cell_type": "markdown",
      "metadata": {
        "id": "LMKL5iKKCFgs"
      },
      "source": [
        "###Compile CNN"
      ]
    },
    {
      "cell_type": "code",
      "metadata": {
        "id": "vmHpdDBLCFgs"
      },
      "source": [
        "CNN.compile(optimizer=\"adam\", loss=\"categorical_crossentropy\", metrics=[\"accuracy\"])"
      ],
      "execution_count": null,
      "outputs": []
    },
    {
      "cell_type": "markdown",
      "metadata": {
        "id": "gUbsPv3UCFgt"
      },
      "source": [
        "###Train CNN"
      ]
    },
    {
      "cell_type": "code",
      "metadata": {
        "colab": {
          "base_uri": "https://localhost:8080/"
        },
        "id": "VTgXYXeJCFgt",
        "outputId": "bb7f001e-0d75-4f93-a56f-1587808d8a04"
      },
      "source": [
        "CNN.fit(x=X, validation_data=val_data, epochs=25)"
      ],
      "execution_count": null,
      "outputs": [
        {
          "output_type": "stream",
          "text": [
            "Epoch 1/25\n",
            "898/898 [==============================] - 11965s 13s/step - loss: 2.2479 - accuracy: 0.2397 - val_loss: 1.8362 - val_accuracy: 0.2016\n",
            "Epoch 2/25\n",
            "898/898 [==============================] - 66s 73ms/step - loss: 1.7813 - accuracy: 0.2670 - val_loss: 1.7616 - val_accuracy: 0.2835\n",
            "Epoch 3/25\n",
            "898/898 [==============================] - 66s 73ms/step - loss: 1.7580 - accuracy: 0.2767 - val_loss: 2.5311 - val_accuracy: 0.1640\n",
            "Epoch 4/25\n",
            "898/898 [==============================] - 66s 74ms/step - loss: 1.7269 - accuracy: 0.2935 - val_loss: 1.7044 - val_accuracy: 0.3144\n",
            "Epoch 5/25\n",
            "898/898 [==============================] - 65s 73ms/step - loss: 1.6949 - accuracy: 0.3171 - val_loss: 1.5676 - val_accuracy: 0.3738\n",
            "Epoch 6/25\n",
            "898/898 [==============================] - 65s 73ms/step - loss: 1.6482 - accuracy: 0.3393 - val_loss: 1.5822 - val_accuracy: 0.3770\n",
            "Epoch 7/25\n",
            "898/898 [==============================] - 66s 73ms/step - loss: 1.6311 - accuracy: 0.3477 - val_loss: 1.5568 - val_accuracy: 0.4042\n",
            "Epoch 8/25\n",
            "898/898 [==============================] - 66s 74ms/step - loss: 1.5957 - accuracy: 0.3678 - val_loss: 1.4688 - val_accuracy: 0.4384\n",
            "Epoch 9/25\n",
            "898/898 [==============================] - 65s 73ms/step - loss: 1.5860 - accuracy: 0.3747 - val_loss: 1.4878 - val_accuracy: 0.4230\n",
            "Epoch 10/25\n",
            "898/898 [==============================] - 66s 73ms/step - loss: 1.5615 - accuracy: 0.3917 - val_loss: 1.4654 - val_accuracy: 0.4363\n",
            "Epoch 11/25\n",
            "898/898 [==============================] - 66s 73ms/step - loss: 1.5484 - accuracy: 0.3942 - val_loss: 1.4764 - val_accuracy: 0.4361\n",
            "Epoch 12/25\n",
            "898/898 [==============================] - 65s 73ms/step - loss: 1.5301 - accuracy: 0.4045 - val_loss: 1.4158 - val_accuracy: 0.4613\n",
            "Epoch 13/25\n",
            "898/898 [==============================] - 66s 74ms/step - loss: 1.5292 - accuracy: 0.4042 - val_loss: 1.4289 - val_accuracy: 0.4493\n",
            "Epoch 14/25\n",
            "898/898 [==============================] - 66s 73ms/step - loss: 1.5088 - accuracy: 0.4083 - val_loss: 1.5333 - val_accuracy: 0.4003\n",
            "Epoch 15/25\n",
            "898/898 [==============================] - 65s 73ms/step - loss: 1.5033 - accuracy: 0.4190 - val_loss: 1.4244 - val_accuracy: 0.4489\n",
            "Epoch 16/25\n",
            "898/898 [==============================] - 65s 73ms/step - loss: 1.4972 - accuracy: 0.4143 - val_loss: 1.4792 - val_accuracy: 0.4535\n",
            "Epoch 17/25\n",
            "898/898 [==============================] - 65s 73ms/step - loss: 1.4808 - accuracy: 0.4219 - val_loss: 1.4322 - val_accuracy: 0.4706\n",
            "Epoch 18/25\n",
            "898/898 [==============================] - 66s 74ms/step - loss: 1.4732 - accuracy: 0.4288 - val_loss: 1.4301 - val_accuracy: 0.4719\n",
            "Epoch 19/25\n",
            "898/898 [==============================] - 66s 73ms/step - loss: 1.4682 - accuracy: 0.4308 - val_loss: 1.3767 - val_accuracy: 0.4778\n",
            "Epoch 20/25\n",
            "898/898 [==============================] - 66s 73ms/step - loss: 1.4599 - accuracy: 0.4345 - val_loss: 1.3955 - val_accuracy: 0.4730\n",
            "Epoch 21/25\n",
            "898/898 [==============================] - 65s 73ms/step - loss: 1.4526 - accuracy: 0.4375 - val_loss: 1.4554 - val_accuracy: 0.4568\n",
            "Epoch 22/25\n",
            "898/898 [==============================] - 66s 73ms/step - loss: 1.4497 - accuracy: 0.4402 - val_loss: 1.6907 - val_accuracy: 0.4168\n",
            "Epoch 23/25\n",
            "898/898 [==============================] - 66s 74ms/step - loss: 1.4350 - accuracy: 0.4455 - val_loss: 1.4953 - val_accuracy: 0.4329\n",
            "Epoch 24/25\n",
            "898/898 [==============================] - 66s 73ms/step - loss: 1.4347 - accuracy: 0.4452 - val_loss: 1.5514 - val_accuracy: 0.4142\n",
            "Epoch 25/25\n",
            "898/898 [==============================] - 66s 74ms/step - loss: 1.4259 - accuracy: 0.4484 - val_loss: 1.4921 - val_accuracy: 0.4759\n"
          ],
          "name": "stdout"
        },
        {
          "output_type": "execute_result",
          "data": {
            "text/plain": [
              "<tensorflow.python.keras.callbacks.History at 0x7fb41d2a3290>"
            ]
          },
          "metadata": {
            "tags": []
          },
          "execution_count": 39
        }
      ]
    },
    {
      "cell_type": "code",
      "metadata": {
        "colab": {
          "base_uri": "https://localhost:8080/"
        },
        "id": "xi-EFmRSCFgt",
        "outputId": "bbd646a2-e659-46b8-c4b6-dfeffb1ecb7d"
      },
      "source": [
        "CNN.save(\"/content/drive/MyDrive/Data Science, Machine Learning/Colab Notebooks/Deep Learning Projects/Image Recognition/Emotion Detection/Models/Iteration_2\")"
      ],
      "execution_count": null,
      "outputs": [
        {
          "output_type": "stream",
          "text": [
            "INFO:tensorflow:Assets written to: /content/drive/MyDrive/Data Science, Machine Learning/Colab Notebooks/Deep Learning Projects/Image Recognition/Emotion Detection/Models/Iteration_2/assets\n"
          ],
          "name": "stdout"
        }
      ]
    },
    {
      "cell_type": "markdown",
      "metadata": {
        "id": "8hKZlWT03cKQ"
      },
      "source": [
        "###Evaluation\n",
        "\n",
        "Increasing the complexity definetly helped. I will try to increase it further as see what happens."
      ]
    },
    {
      "cell_type": "markdown",
      "metadata": {
        "id": "VRNdFPNDDG4o"
      },
      "source": [
        "#Iteration 3 (increase complexity of the model)\n",
        "\n",
        "Increasing adding one more layer to the model helped, so I will try to add one more."
      ]
    },
    {
      "cell_type": "markdown",
      "metadata": {
        "id": "WtbrzFHQ0v3a"
      },
      "source": [
        "##Data preparation\n",
        "\n",
        "I will add the data augmentations to the loaded image. If this doesn't work, I might increase the size of the dataset using augmentations."
      ]
    },
    {
      "cell_type": "markdown",
      "metadata": {
        "id": "tiR4lDLEMfL_"
      },
      "source": [
        ""
      ]
    },
    {
      "cell_type": "code",
      "metadata": {
        "id": "xm32cJA10v3b"
      },
      "source": [
        "train_gen = tf.keras.preprocessing.image.ImageDataGenerator(\n",
        "    rescale=1./255, #rescales image - this is done after augmentation\n",
        "    rotation_range=40, #randomly rotates \n",
        "    zoom_range=0.2, #randomly zooms\n",
        "    width_shift_range=0.2, #randomly move pixels horizontally\n",
        "    height_shift_range=0.2, #randomly move pixels vertically\n",
        "    horizontal_flip=True, #randomly flips images horizontallyt\n",
        "    fill_mode=\"nearest\" #fills missing pixels with their nearest neightbours\n",
        ")"
      ],
      "execution_count": null,
      "outputs": []
    },
    {
      "cell_type": "code",
      "metadata": {
        "colab": {
          "base_uri": "https://localhost:8080/"
        },
        "id": "w7yCt5wY0v3d",
        "outputId": "86f277a5-fbbd-4bfd-99c1-3ce175d1dd2e"
      },
      "source": [
        "X = train_gen.flow_from_directory(\n",
        "    \"/content/drive/MyDrive/Data Science, Machine Learning/Colab Notebooks/Deep Learning Projects/Image Recognition/Emotion Detection/Data/train\",\n",
        "    target_size=(64,64), #resize for faster training\n",
        "    color_mode=\"grayscale\",\n",
        "    batch_size=32,\n",
        "    classes={'angry': 'angry',\n",
        "             \"disgusted\":\"disgusted\",\n",
        "             \"fearful\":\"fearful\",\n",
        "             \"happy\":\"happy\",\n",
        "             \"neutral\":\"neutral\",\n",
        "             \"sad\":\"sad\",\n",
        "             \"surprised\":\"surprised\"})"
      ],
      "execution_count": null,
      "outputs": [
        {
          "output_type": "stream",
          "text": [
            "Found 28710 images belonging to 7 classes.\n"
          ],
          "name": "stdout"
        }
      ]
    },
    {
      "cell_type": "code",
      "metadata": {
        "id": "A5H5pZze0v3e"
      },
      "source": [
        "validation_generator = tf.keras.preprocessing.image.ImageDataGenerator(\n",
        "    rescale=1./255\n",
        ")"
      ],
      "execution_count": null,
      "outputs": []
    },
    {
      "cell_type": "code",
      "metadata": {
        "colab": {
          "base_uri": "https://localhost:8080/"
        },
        "id": "CvM5eJ7n0v3f",
        "outputId": "a2890bb2-724b-4fc8-87e6-3624c6d95b85"
      },
      "source": [
        "val_data = validation_generator.flow_from_directory(\n",
        "    \"/content/drive/MyDrive/Data Science, Machine Learning/Colab Notebooks/Deep Learning Projects/Image Recognition/Emotion Detection/Data/test\",\n",
        "    target_size=(64,64),\n",
        "    color_mode=\"grayscale\",\n",
        "    batch_size=32,\n",
        "    classes={'angry': 1,\n",
        "             \"disgusted\":\"disgusted\",\n",
        "             \"fearful\":\"fearful\",\n",
        "             \"happy\":\"happy\",\n",
        "             \"neutral\":\"neutral\",\n",
        "             \"sad\":\"sad\",\n",
        "             \"surprised\":\"surprised\"})"
      ],
      "execution_count": null,
      "outputs": [
        {
          "output_type": "stream",
          "text": [
            "Found 7178 images belonging to 7 classes.\n"
          ],
          "name": "stdout"
        }
      ]
    },
    {
      "cell_type": "markdown",
      "metadata": {
        "id": "r5irhkqZ0v3f"
      },
      "source": [
        "##Modelling"
      ]
    },
    {
      "cell_type": "markdown",
      "metadata": {
        "id": "Bm6lR-9I0v3f"
      },
      "source": [
        "###Create CNN"
      ]
    },
    {
      "cell_type": "code",
      "metadata": {
        "id": "SZaz4scR0v3g"
      },
      "source": [
        "from tensorflow.keras.models import Sequential\n",
        "from tensorflow.keras.layers import Conv2D, MaxPool2D, Flatten, Dense, Dropout, BatchNormalization, GaussianNoise, Input\n",
        "from keras import regularizers"
      ],
      "execution_count": null,
      "outputs": []
    },
    {
      "cell_type": "code",
      "metadata": {
        "id": "MskUBo_i0v3g"
      },
      "source": [
        "CNN = Sequential([\n",
        "                  Input(shape=[64,64,1]),\n",
        "                  GaussianNoise(0.1),\n",
        "                  Conv2D(filters=32, kernel_size=3,activation=\"relu\"),\n",
        "                  BatchNormalization(),\n",
        "                  MaxPool2D(pool_size=2, strides=2),\n",
        "                  Conv2D(filters=32, kernel_size=3, activation=\"relu\"),\n",
        "                  BatchNormalization(),\n",
        "                  MaxPool2D(pool_size=2, strides=2),\n",
        "                  Conv2D(filters=32, kernel_size=3, activation=\"relu\"),\n",
        "                  BatchNormalization(),\n",
        "                  MaxPool2D(pool_size=2, strides=2),\n",
        "                  Flatten(),\n",
        "                  Dense(units=4180, activation=\"relu\"),\n",
        "                  Dense(units=4180, activation=\"relu\"),  \n",
        "                  #Dropout(0.2), #remove dropout since its underfitting\n",
        "                  Dense(units=4180, activation=\"relu\"),\n",
        "                  Dense(units=4180, activation=\"relu\"),\n",
        "                  #Dropout(0.2),\n",
        "                  Dense(units=7, activation=\"softmax\")\n",
        "]\n",
        ")"
      ],
      "execution_count": null,
      "outputs": []
    },
    {
      "cell_type": "markdown",
      "metadata": {
        "id": "yLDYDV7Z0v3g"
      },
      "source": [
        "###Compile CNN"
      ]
    },
    {
      "cell_type": "code",
      "metadata": {
        "id": "ucsKpmqF0v3h"
      },
      "source": [
        "CNN.compile(optimizer=\"adam\", loss=\"categorical_crossentropy\", metrics=[\"accuracy\"])"
      ],
      "execution_count": null,
      "outputs": []
    },
    {
      "cell_type": "markdown",
      "metadata": {
        "id": "p0BJWudF0v3h"
      },
      "source": [
        "###Train CNN"
      ]
    },
    {
      "cell_type": "code",
      "metadata": {
        "colab": {
          "base_uri": "https://localhost:8080/"
        },
        "id": "A3kT2n2B0v3h",
        "outputId": "76297865-2cff-4165-884f-c3c90f85a404"
      },
      "source": [
        "CNN.fit(x=X, validation_data=val_data, epochs=25)"
      ],
      "execution_count": null,
      "outputs": [
        {
          "output_type": "stream",
          "text": [
            "Epoch 1/25\n",
            "898/898 [==============================] - 69s 76ms/step - loss: 2.2594 - accuracy: 0.2380 - val_loss: 1.8022 - val_accuracy: 0.2346\n",
            "Epoch 2/25\n",
            "898/898 [==============================] - 68s 75ms/step - loss: 1.7853 - accuracy: 0.2572 - val_loss: 1.8311 - val_accuracy: 0.2300\n",
            "Epoch 3/25\n",
            "898/898 [==============================] - 68s 75ms/step - loss: 1.7682 - accuracy: 0.2620 - val_loss: 1.7538 - val_accuracy: 0.2934\n",
            "Epoch 4/25\n",
            "898/898 [==============================] - 67s 75ms/step - loss: 1.7394 - accuracy: 0.2920 - val_loss: 1.6951 - val_accuracy: 0.2999\n",
            "Epoch 5/25\n",
            "898/898 [==============================] - 68s 75ms/step - loss: 1.7156 - accuracy: 0.3023 - val_loss: 1.8518 - val_accuracy: 0.2675\n",
            "Epoch 6/25\n",
            "898/898 [==============================] - 67s 75ms/step - loss: 1.7007 - accuracy: 0.3098 - val_loss: 1.6568 - val_accuracy: 0.3123\n",
            "Epoch 7/25\n",
            "898/898 [==============================] - 67s 75ms/step - loss: 1.6525 - accuracy: 0.3394 - val_loss: 1.6445 - val_accuracy: 0.3807\n",
            "Epoch 8/25\n",
            "898/898 [==============================] - 67s 75ms/step - loss: 1.6288 - accuracy: 0.3514 - val_loss: 1.5626 - val_accuracy: 0.3831\n",
            "Epoch 9/25\n",
            "898/898 [==============================] - 67s 74ms/step - loss: 1.6187 - accuracy: 0.3501 - val_loss: 1.5267 - val_accuracy: 0.4221\n",
            "Epoch 10/25\n",
            "898/898 [==============================] - 67s 75ms/step - loss: 1.5883 - accuracy: 0.3743 - val_loss: 1.5171 - val_accuracy: 0.4196\n",
            "Epoch 11/25\n",
            "898/898 [==============================] - 67s 74ms/step - loss: 1.5737 - accuracy: 0.3768 - val_loss: 1.5485 - val_accuracy: 0.4188\n",
            "Epoch 12/25\n",
            "898/898 [==============================] - 67s 75ms/step - loss: 1.5494 - accuracy: 0.3905 - val_loss: 1.6190 - val_accuracy: 0.3948\n",
            "Epoch 13/25\n",
            "898/898 [==============================] - 67s 75ms/step - loss: 1.5436 - accuracy: 0.3930 - val_loss: 1.4751 - val_accuracy: 0.4283\n",
            "Epoch 14/25\n",
            "898/898 [==============================] - 68s 76ms/step - loss: 1.5378 - accuracy: 0.3947 - val_loss: 1.4524 - val_accuracy: 0.4451\n",
            "Epoch 15/25\n",
            "898/898 [==============================] - 67s 75ms/step - loss: 1.5137 - accuracy: 0.4086 - val_loss: 1.4837 - val_accuracy: 0.4237\n",
            "Epoch 16/25\n",
            "898/898 [==============================] - 67s 75ms/step - loss: 1.5094 - accuracy: 0.4044 - val_loss: 1.4318 - val_accuracy: 0.4468\n",
            "Epoch 17/25\n",
            "898/898 [==============================] - 67s 75ms/step - loss: 1.5053 - accuracy: 0.4063 - val_loss: 1.5075 - val_accuracy: 0.4061\n",
            "Epoch 18/25\n",
            "898/898 [==============================] - 67s 75ms/step - loss: 1.4891 - accuracy: 0.4195 - val_loss: 1.5310 - val_accuracy: 0.4160\n",
            "Epoch 19/25\n",
            "898/898 [==============================] - 68s 75ms/step - loss: 1.4839 - accuracy: 0.4240 - val_loss: 1.4113 - val_accuracy: 0.4595\n",
            "Epoch 20/25\n",
            "898/898 [==============================] - 67s 74ms/step - loss: 1.4842 - accuracy: 0.4213 - val_loss: 1.4332 - val_accuracy: 0.4522\n",
            "Epoch 21/25\n",
            "898/898 [==============================] - 67s 74ms/step - loss: 1.4759 - accuracy: 0.4283 - val_loss: 1.4384 - val_accuracy: 0.4455\n",
            "Epoch 22/25\n",
            "898/898 [==============================] - 67s 75ms/step - loss: 1.4639 - accuracy: 0.4269 - val_loss: 1.3730 - val_accuracy: 0.4654\n",
            "Epoch 23/25\n",
            "898/898 [==============================] - 68s 75ms/step - loss: 1.4626 - accuracy: 0.4334 - val_loss: 1.3789 - val_accuracy: 0.4695\n",
            "Epoch 24/25\n",
            "898/898 [==============================] - 67s 75ms/step - loss: 1.4611 - accuracy: 0.4330 - val_loss: 1.5046 - val_accuracy: 0.4262\n",
            "Epoch 25/25\n",
            "898/898 [==============================] - 68s 75ms/step - loss: 1.4400 - accuracy: 0.4436 - val_loss: 1.3451 - val_accuracy: 0.4891\n"
          ],
          "name": "stdout"
        },
        {
          "output_type": "execute_result",
          "data": {
            "text/plain": [
              "<tensorflow.python.keras.callbacks.History at 0x7fb41c808fd0>"
            ]
          },
          "metadata": {
            "tags": []
          },
          "execution_count": 57
        }
      ]
    },
    {
      "cell_type": "code",
      "metadata": {
        "colab": {
          "base_uri": "https://localhost:8080/"
        },
        "id": "VrKNIjC90v3h",
        "outputId": "315ce953-083e-4be4-fcc7-069e8653b9f5"
      },
      "source": [
        "CNN.save(\"/content/drive/MyDrive/Data Science, Machine Learning/Colab Notebooks/Deep Learning Projects/Image Recognition/Emotion Detection/Models/Iteration_3\")"
      ],
      "execution_count": null,
      "outputs": [
        {
          "output_type": "stream",
          "text": [
            "INFO:tensorflow:Assets written to: /content/drive/MyDrive/Data Science, Machine Learning/Colab Notebooks/Deep Learning Projects/Image Recognition/Emotion Detection/Models/Iteration_3/assets\n"
          ],
          "name": "stdout"
        }
      ]
    },
    {
      "cell_type": "markdown",
      "metadata": {
        "id": "ptJpON1qp_Uy"
      },
      "source": [
        "###Evaluation\n",
        "\n",
        "Increasing the complexity further didn't help. Next step is to increase the amount of data."
      ]
    },
    {
      "cell_type": "markdown",
      "metadata": {
        "id": "KMibS_14p_aO"
      },
      "source": [
        "#Iteration 4 (add more data)\n",
        "\n",
        "Adding another layer in iteration 3 didn't help much. Instead I will keep the architecture from iteration 2, and add more data using data augmentation."
      ]
    },
    {
      "cell_type": "markdown",
      "metadata": {
        "id": "PnzxZ8yOp_aO"
      },
      "source": [
        "##Data preparation\n",
        "\n",
        "I will add the data augmentations to the loaded image. If this doesn't work, I might increase the size of the dataset using augmentations."
      ]
    },
    {
      "cell_type": "markdown",
      "metadata": {
        "id": "mFcg1rJfp_aP"
      },
      "source": [
        "###Add more data"
      ]
    },
    {
      "cell_type": "code",
      "metadata": {
        "id": "28k5NLnNrlll"
      },
      "source": [
        "data_generation = tf.keras.preprocessing.image.ImageDataGenerator(\n",
        "    rescale=1./255, #rescales image - this is done after augmentation\n",
        "    rotation_range=40, #randomly rotates \n",
        "    zoom_range=0.2, #randomly zooms\n",
        "    width_shift_range=0.2, #randomly move pixels horizontally\n",
        "    height_shift_range=0.2, #randomly move pixels vertically\n",
        "    horizontal_flip=True, #randomly flips images horizontallyt\n",
        "    fill_mode=\"nearest\" #fills missing pixels with their nearest neightbours\n",
        ")"
      ],
      "execution_count": null,
      "outputs": []
    },
    {
      "cell_type": "code",
      "metadata": {
        "id": "4IAQBj6Tq1XH"
      },
      "source": [
        "for folder in os.listdir(\"/content/drive/MyDrive/Data Science, Machine Learning/Colab Notebooks/Deep Learning Projects/Image Recognition/Emotion Detection/Data/train\"):\n",
        "  for sample in os.listdir(f\"/content/drive/MyDrive/Data Science, Machine Learning/Colab Notebooks/Deep Learning Projects/Image Recognition/Emotion Detection/Data/train/{folder}\"):\n",
        "    for batch in data_generation.flow(np.expand_dims(image.load_img(f\"/content/drive/MyDrive/Data Science, Machine Learning/Colab Notebooks/Deep Learning Projects/Image Recognition/Emotion Detection/Data/train/{folder}/{sample}\"),\n",
        "                                                       0),\n",
        "                                        save_to_dir=f\"/content/drive/MyDrive/Data Science, Machine Learning/Colab Notebooks/Deep Learning Projects/Image Recognition/Emotion Detection/Data/train/{folder}\",\n",
        "                                        save_format=\"jpeg\",\n",
        "                                        save_prefix=\"aug\",\n",
        "                                        batch_size=1):\n",
        "      break"
      ],
      "execution_count": null,
      "outputs": []
    },
    {
      "cell_type": "markdown",
      "metadata": {
        "id": "ZSr6PF4DrV2z"
      },
      "source": [
        "###Import images"
      ]
    },
    {
      "cell_type": "code",
      "metadata": {
        "id": "Gg9gnk9_p_aP"
      },
      "source": [
        "#Augmentations are gone since augmented images already exists in the dataset now\n",
        "\n",
        "train_gen = tf.keras.preprocessing.image.ImageDataGenerator(\n",
        "    rescale=1./255, #rescales image - this is done after augmentation\n",
        ")"
      ],
      "execution_count": null,
      "outputs": []
    },
    {
      "cell_type": "code",
      "metadata": {
        "colab": {
          "base_uri": "https://localhost:8080/"
        },
        "id": "CxVQeh7Bp_aQ",
        "outputId": "efa61f60-d93e-4591-bfa6-3c9239a15871"
      },
      "source": [
        "X = train_gen.flow_from_directory(\n",
        "    \"/content/drive/MyDrive/Data Science, Machine Learning/Colab Notebooks/Deep Learning Projects/Image Recognition/Emotion Detection/Data/train\",\n",
        "    target_size=(64,64), #resize for faster training\n",
        "    color_mode=\"grayscale\",\n",
        "    batch_size=32,\n",
        "    classes={'angry': 'angry',\n",
        "             \"disgusted\":\"disgusted\",\n",
        "             \"fearful\":\"fearful\",\n",
        "             \"happy\":\"happy\",\n",
        "             \"neutral\":\"neutral\",\n",
        "             \"sad\":\"sad\",\n",
        "             \"surprised\":\"surprised\"})"
      ],
      "execution_count": null,
      "outputs": [
        {
          "output_type": "stream",
          "text": [
            "Found 51396 images belonging to 7 classes.\n"
          ],
          "name": "stdout"
        }
      ]
    },
    {
      "cell_type": "code",
      "metadata": {
        "id": "41hauYqPp_aR"
      },
      "source": [
        "validation_generator = tf.keras.preprocessing.image.ImageDataGenerator(\n",
        "    rescale=1./255\n",
        ")"
      ],
      "execution_count": null,
      "outputs": []
    },
    {
      "cell_type": "code",
      "metadata": {
        "colab": {
          "base_uri": "https://localhost:8080/"
        },
        "id": "7ev4va9ep_aR",
        "outputId": "23a0d889-7d3b-4219-e261-3a978f622a80"
      },
      "source": [
        "val_data = validation_generator.flow_from_directory(\n",
        "    \"/content/drive/MyDrive/Data Science, Machine Learning/Colab Notebooks/Deep Learning Projects/Image Recognition/Emotion Detection/Data/test\",\n",
        "    target_size=(64,64),\n",
        "    color_mode=\"grayscale\",\n",
        "    batch_size=32,\n",
        "    classes={'angry': 1,\n",
        "             \"disgusted\":\"disgusted\",\n",
        "             \"fearful\":\"fearful\",\n",
        "             \"happy\":\"happy\",\n",
        "             \"neutral\":\"neutral\",\n",
        "             \"sad\":\"sad\",\n",
        "             \"surprised\":\"surprised\"})"
      ],
      "execution_count": null,
      "outputs": [
        {
          "output_type": "stream",
          "text": [
            "Found 7178 images belonging to 7 classes.\n"
          ],
          "name": "stdout"
        }
      ]
    },
    {
      "cell_type": "markdown",
      "metadata": {
        "id": "MWVw78k8p_aR"
      },
      "source": [
        "##Modelling"
      ]
    },
    {
      "cell_type": "markdown",
      "metadata": {
        "id": "nZFhgj2vp_aS"
      },
      "source": [
        "###Create CNN"
      ]
    },
    {
      "cell_type": "code",
      "metadata": {
        "id": "aHGy2BTNp_aS"
      },
      "source": [
        "from tensorflow.keras.models import Sequential\n",
        "from tensorflow.keras.layers import Conv2D, MaxPool2D, Flatten, Dense, Dropout, BatchNormalization, GaussianNoise, Input\n",
        "from keras import regularizers"
      ],
      "execution_count": null,
      "outputs": []
    },
    {
      "cell_type": "code",
      "metadata": {
        "id": "jzWkcAoFp_aS"
      },
      "source": [
        "CNN = Sequential([\n",
        "                  Input(shape=[64,64,1]),\n",
        "                  GaussianNoise(0.1),\n",
        "                  Conv2D(filters=32, kernel_size=3,activation=\"relu\"),\n",
        "                  BatchNormalization(),\n",
        "                  MaxPool2D(pool_size=2, strides=2),\n",
        "                  Conv2D(filters=32, kernel_size=3, activation=\"relu\"),\n",
        "                  BatchNormalization(),\n",
        "                  MaxPool2D(pool_size=2, strides=2),\n",
        "                  Conv2D(filters=32, kernel_size=3, activation=\"relu\"),\n",
        "                  BatchNormalization(),\n",
        "                  MaxPool2D(pool_size=2, strides=2),\n",
        "                  Flatten(),\n",
        "                  Dense(units=4180, activation=\"relu\"),  \n",
        "                  #Dropout(0.2), #remove dropout since its underfitting\n",
        "                  Dense(units=4180, activation=\"relu\"),\n",
        "                  Dense(units=4180, activation=\"relu\"),\n",
        "                  #Dropout(0.2),\n",
        "                  Dense(units=7, activation=\"softmax\")\n",
        "]\n",
        ")"
      ],
      "execution_count": null,
      "outputs": []
    },
    {
      "cell_type": "markdown",
      "metadata": {
        "id": "76cwia0Lp_aT"
      },
      "source": [
        "###Compile CNN"
      ]
    },
    {
      "cell_type": "code",
      "metadata": {
        "id": "B4beZOmbp_aT"
      },
      "source": [
        "CNN.compile(optimizer=\"adam\", loss=\"categorical_crossentropy\", metrics=[\"accuracy\"])"
      ],
      "execution_count": null,
      "outputs": []
    },
    {
      "cell_type": "markdown",
      "metadata": {
        "id": "XlJP9q_Xp_aT"
      },
      "source": [
        "###Train CNN"
      ]
    },
    {
      "cell_type": "code",
      "metadata": {
        "colab": {
          "background_save": true,
          "base_uri": "https://localhost:8080/"
        },
        "id": "R9kJghhXp_aT",
        "outputId": "78e0d1af-8e80-4046-8640-85902fc49602"
      },
      "source": [
        "CNN.fit(x=X, validation_data=val_data, epochs=25)"
      ],
      "execution_count": null,
      "outputs": [
        {
          "output_type": "stream",
          "text": [
            "Epoch 1/25\n",
            "1607/1607 [==============================] - 26147s 16s/step - loss: 2.0130 - accuracy: 0.2739 - val_loss: 1.6830 - val_accuracy: 0.2981\n",
            "Epoch 2/25\n",
            "1607/1607 [==============================] - 122s 76ms/step - loss: 1.5692 - accuracy: 0.3732 - val_loss: 1.4115 - val_accuracy: 0.4345\n",
            "Epoch 3/25\n",
            "1607/1607 [==============================] - 120s 75ms/step - loss: 1.4565 - accuracy: 0.4290 - val_loss: 1.5504 - val_accuracy: 0.3919\n",
            "Epoch 4/25\n",
            "1607/1607 [==============================] - 120s 75ms/step - loss: 1.3272 - accuracy: 0.4877 - val_loss: 1.3188 - val_accuracy: 0.4961\n",
            "Epoch 5/25\n",
            "1607/1607 [==============================] - 121s 76ms/step - loss: 1.1886 - accuracy: 0.5484 - val_loss: 1.2610 - val_accuracy: 0.5256\n",
            "Epoch 6/25\n",
            "1607/1607 [==============================] - 122s 76ms/step - loss: 0.9932 - accuracy: 0.6283 - val_loss: 1.4140 - val_accuracy: 0.4862\n",
            "Epoch 7/25\n",
            "1607/1607 [==============================] - 121s 75ms/step - loss: 0.7765 - accuracy: 0.7141 - val_loss: 1.3838 - val_accuracy: 0.5320\n",
            "Epoch 8/25\n",
            "1607/1607 [==============================] - 121s 76ms/step - loss: 0.5754 - accuracy: 0.7920 - val_loss: 1.4624 - val_accuracy: 0.5245\n",
            "Epoch 9/25\n",
            "1607/1607 [==============================] - 121s 75ms/step - loss: 0.4282 - accuracy: 0.8488 - val_loss: 1.6458 - val_accuracy: 0.5350\n",
            "Epoch 10/25\n",
            "1607/1607 [==============================] - 122s 76ms/step - loss: 0.3418 - accuracy: 0.8810 - val_loss: 1.7375 - val_accuracy: 0.5433\n",
            "Epoch 11/25\n",
            "1607/1607 [==============================] - 122s 76ms/step - loss: 0.2669 - accuracy: 0.9088 - val_loss: 1.7524 - val_accuracy: 0.5191\n",
            "Epoch 12/25\n",
            "1607/1607 [==============================] - 122s 76ms/step - loss: 0.2377 - accuracy: 0.9199 - val_loss: 1.7525 - val_accuracy: 0.5316\n",
            "Epoch 13/25\n",
            "1607/1607 [==============================] - 122s 76ms/step - loss: 0.2096 - accuracy: 0.9314 - val_loss: 1.9697 - val_accuracy: 0.5369\n",
            "Epoch 14/25\n",
            "1607/1607 [==============================] - 120s 75ms/step - loss: 0.1859 - accuracy: 0.9386 - val_loss: 1.9960 - val_accuracy: 0.5405\n",
            "Epoch 15/25\n",
            "1607/1607 [==============================] - 118s 73ms/step - loss: 0.1752 - accuracy: 0.9446 - val_loss: 1.9933 - val_accuracy: 0.5430\n",
            "Epoch 16/25\n",
            "1607/1607 [==============================] - 117s 73ms/step - loss: 0.1522 - accuracy: 0.9478 - val_loss: 2.1231 - val_accuracy: 0.5439\n",
            "Epoch 17/25\n",
            "1607/1607 [==============================] - 117s 73ms/step - loss: 0.1394 - accuracy: 0.9553 - val_loss: 2.1191 - val_accuracy: 0.5347\n",
            "Epoch 18/25\n",
            "1607/1607 [==============================] - 117s 73ms/step - loss: 0.1295 - accuracy: 0.9589 - val_loss: 2.1822 - val_accuracy: 0.5358\n",
            "Epoch 19/25\n",
            "1607/1607 [==============================] - 116s 72ms/step - loss: 0.1252 - accuracy: 0.9602 - val_loss: 2.1002 - val_accuracy: 0.5407\n",
            "Epoch 20/25\n",
            "1607/1607 [==============================] - 115s 71ms/step - loss: 0.1217 - accuracy: 0.9600 - val_loss: 2.2596 - val_accuracy: 0.5330\n",
            "Epoch 21/25\n",
            "1607/1607 [==============================] - 116s 72ms/step - loss: 0.1127 - accuracy: 0.9638 - val_loss: 2.2510 - val_accuracy: 0.5496\n",
            "Epoch 22/25\n",
            "1607/1607 [==============================] - 117s 72ms/step - loss: 0.1071 - accuracy: 0.9657 - val_loss: 2.3134 - val_accuracy: 0.5397\n",
            "Epoch 23/25\n",
            "1607/1607 [==============================] - 117s 73ms/step - loss: 0.0935 - accuracy: 0.9697 - val_loss: 2.2910 - val_accuracy: 0.5461\n",
            "Epoch 24/25\n",
            "1607/1607 [==============================] - 116s 72ms/step - loss: 0.1024 - accuracy: 0.9671 - val_loss: 2.2520 - val_accuracy: 0.5440\n",
            "Epoch 25/25\n",
            "1607/1607 [==============================] - 117s 73ms/step - loss: 0.0933 - accuracy: 0.9708 - val_loss: 2.7163 - val_accuracy: 0.5319\n"
          ],
          "name": "stdout"
        },
        {
          "output_type": "execute_result",
          "data": {
            "text/plain": [
              "<tensorflow.python.keras.callbacks.History at 0x7f06b745c0d0>"
            ]
          },
          "metadata": {
            "tags": []
          },
          "execution_count": 0
        }
      ]
    },
    {
      "cell_type": "code",
      "metadata": {
        "colab": {
          "background_save": true
        },
        "id": "uOIHXINdp_aU",
        "outputId": "e41c6978-4964-4ab6-deba-2477a468d46a"
      },
      "source": [
        "CNN.save(\"/content/drive/MyDrive/Data Science, Machine Learning/Colab Notebooks/Deep Learning Projects/Image Recognition/Emotion Detection/Models/Iteration_4\")"
      ],
      "execution_count": null,
      "outputs": [
        {
          "output_type": "stream",
          "text": [
            "INFO:tensorflow:Assets written to: /content/drive/MyDrive/Data Science, Machine Learning/Colab Notebooks/Deep Learning Projects/Image Recognition/Emotion Detection/Models/Iteration_4/assets\n"
          ],
          "name": "stdout"
        }
      ]
    },
    {
      "cell_type": "markdown",
      "metadata": {
        "id": "aOvWnTnS3vRI"
      },
      "source": [
        "###Evaluation\n",
        "\n",
        "The model has gone from underfitting to overfitting. Since convolutional neural networks need quite a lot of data, I suspect it's overfitting for that exact reason - it needs more data. Before increasing the amount of data further, I will try to add a few dropout layers."
      ]
    },
    {
      "cell_type": "markdown",
      "metadata": {
        "id": "omu_MwOBJRyT"
      },
      "source": [
        "#Iteration 5 (use dropout)"
      ]
    },
    {
      "cell_type": "markdown",
      "metadata": {
        "id": "HO4F2l4JJSvF"
      },
      "source": [
        "###Import images"
      ]
    },
    {
      "cell_type": "code",
      "metadata": {
        "id": "gn-FxgGyJSvG"
      },
      "source": [
        "#Augmentations are gone since augmented images already exists in the dataset now\n",
        "\n",
        "train_gen = tf.keras.preprocessing.image.ImageDataGenerator(\n",
        "    rescale=1./255, #rescales image - this is done after augmentation\n",
        ")"
      ],
      "execution_count": null,
      "outputs": []
    },
    {
      "cell_type": "code",
      "metadata": {
        "colab": {
          "base_uri": "https://localhost:8080/"
        },
        "id": "74kGs1kSJSvI",
        "outputId": "64ec846e-06de-4cac-86e6-f4d70487b76b"
      },
      "source": [
        "X = train_gen.flow_from_directory(\n",
        "    \"/content/drive/MyDrive/Data Science, Machine Learning/Colab Notebooks/Deep Learning Projects/Image Recognition/Emotion Detection/Data/train\",\n",
        "    target_size=(64,64), #resize for faster training\n",
        "    color_mode=\"grayscale\",\n",
        "    batch_size=32,\n",
        "    classes={'angry': 'angry',\n",
        "             \"disgusted\":\"disgusted\",\n",
        "             \"fearful\":\"fearful\",\n",
        "             \"happy\":\"happy\",\n",
        "             \"neutral\":\"neutral\",\n",
        "             \"sad\":\"sad\",\n",
        "             \"surprised\":\"surprised\"})"
      ],
      "execution_count": null,
      "outputs": [
        {
          "output_type": "stream",
          "text": [
            "Found 51396 images belonging to 7 classes.\n"
          ],
          "name": "stdout"
        }
      ]
    },
    {
      "cell_type": "code",
      "metadata": {
        "id": "NFUsnyy_JSvK"
      },
      "source": [
        "validation_generator = tf.keras.preprocessing.image.ImageDataGenerator(\n",
        "    rescale=1./255\n",
        ")"
      ],
      "execution_count": null,
      "outputs": []
    },
    {
      "cell_type": "code",
      "metadata": {
        "colab": {
          "base_uri": "https://localhost:8080/"
        },
        "id": "SzsdvYhrJSvL",
        "outputId": "fec3e52a-8138-43d4-a8de-95cde90cac6e"
      },
      "source": [
        "val_data = validation_generator.flow_from_directory(\n",
        "    \"/content/drive/MyDrive/Data Science, Machine Learning/Colab Notebooks/Deep Learning Projects/Image Recognition/Emotion Detection/Data/test\",\n",
        "    target_size=(64,64),\n",
        "    color_mode=\"grayscale\",\n",
        "    batch_size=32,\n",
        "    classes={'angry': 1,\n",
        "             \"disgusted\":\"disgusted\",\n",
        "             \"fearful\":\"fearful\",\n",
        "             \"happy\":\"happy\",\n",
        "             \"neutral\":\"neutral\",\n",
        "             \"sad\":\"sad\",\n",
        "             \"surprised\":\"surprised\"})"
      ],
      "execution_count": null,
      "outputs": [
        {
          "output_type": "stream",
          "text": [
            "Found 7178 images belonging to 7 classes.\n"
          ],
          "name": "stdout"
        }
      ]
    },
    {
      "cell_type": "markdown",
      "metadata": {
        "id": "3LGgD5QWJSvM"
      },
      "source": [
        "##Modelling"
      ]
    },
    {
      "cell_type": "markdown",
      "metadata": {
        "id": "9JWBA23QJSvM"
      },
      "source": [
        "###Create CNN"
      ]
    },
    {
      "cell_type": "code",
      "metadata": {
        "id": "CouO0ktWJSvN"
      },
      "source": [
        "from tensorflow.keras.models import Sequential\n",
        "from tensorflow.keras.layers import Conv2D, MaxPool2D, Flatten, Dense, Dropout, BatchNormalization, GaussianNoise, Input\n",
        "from keras import regularizers"
      ],
      "execution_count": null,
      "outputs": []
    },
    {
      "cell_type": "code",
      "metadata": {
        "id": "X8x6f4bhJSvN"
      },
      "source": [
        "CNN = Sequential([\n",
        "                  Input(shape=[64,64,1]),\n",
        "                  GaussianNoise(0.1),\n",
        "                  Conv2D(filters=32, kernel_size=3,activation=\"relu\"),\n",
        "                  BatchNormalization(),\n",
        "                  MaxPool2D(pool_size=2, strides=2),\n",
        "                  Conv2D(filters=32, kernel_size=3, activation=\"relu\"),\n",
        "                  BatchNormalization(),\n",
        "                  MaxPool2D(pool_size=2, strides=2),\n",
        "                  Conv2D(filters=32, kernel_size=3, activation=\"relu\"),\n",
        "                  BatchNormalization(),\n",
        "                  MaxPool2D(pool_size=2, strides=2),\n",
        "                  Flatten(),\n",
        "                  Dense(units=4180, activation=\"relu\"),  \n",
        "                  Dropout(0.2), #remove dropout since its underfitting\n",
        "                  Dense(units=4180, activation=\"relu\"),\n",
        "                  Dense(units=4180, activation=\"relu\"),\n",
        "                  Dropout(0.2),\n",
        "                  Dense(units=7, activation=\"softmax\")\n",
        "]\n",
        ")"
      ],
      "execution_count": null,
      "outputs": []
    },
    {
      "cell_type": "markdown",
      "metadata": {
        "id": "pX21yyPQJSvP"
      },
      "source": [
        "###Compile CNN"
      ]
    },
    {
      "cell_type": "code",
      "metadata": {
        "id": "zXIDVjbOJSvP"
      },
      "source": [
        "CNN.compile(optimizer=\"adam\", loss=\"categorical_crossentropy\", metrics=[\"accuracy\"])"
      ],
      "execution_count": null,
      "outputs": []
    },
    {
      "cell_type": "markdown",
      "metadata": {
        "id": "Ds8hAi7YJSvP"
      },
      "source": [
        "###Train CNN"
      ]
    },
    {
      "cell_type": "code",
      "metadata": {
        "colab": {
          "background_save": true,
          "base_uri": "https://localhost:8080/"
        },
        "id": "Ty-PETf6JSvQ",
        "outputId": "fe3d5064-f5fc-410c-9eec-4475a8748240"
      },
      "source": [
        "CNN.fit(x=X, validation_data=val_data, epochs=25)"
      ],
      "execution_count": null,
      "outputs": [
        {
          "output_type": "stream",
          "text": [
            "Epoch 1/25\n",
            "1607/1607 [==============================] - 13800s 9s/step - loss: 2.0237 - accuracy: 0.2676 - val_loss: 1.5238 - val_accuracy: 0.4107\n",
            "Epoch 2/25\n",
            "1607/1607 [==============================] - 87s 54ms/step - loss: 1.6021 - accuracy: 0.3617 - val_loss: 1.5103 - val_accuracy: 0.4030\n",
            "Epoch 3/25\n",
            "1607/1607 [==============================] - 86s 53ms/step - loss: 1.4852 - accuracy: 0.4144 - val_loss: 1.3584 - val_accuracy: 0.4936\n",
            "Epoch 4/25\n",
            "1607/1607 [==============================] - 85s 53ms/step - loss: 1.3960 - accuracy: 0.4590 - val_loss: 1.3337 - val_accuracy: 0.4975\n",
            "Epoch 5/25\n",
            "1607/1607 [==============================] - 85s 53ms/step - loss: 1.2986 - accuracy: 0.5046 - val_loss: 1.3633 - val_accuracy: 0.4730\n",
            "Epoch 6/25\n",
            "1607/1607 [==============================] - 86s 53ms/step - loss: 1.1835 - accuracy: 0.5529 - val_loss: 1.2495 - val_accuracy: 0.5382\n",
            "Epoch 7/25\n",
            "1607/1607 [==============================] - 85s 53ms/step - loss: 1.0413 - accuracy: 0.6127 - val_loss: 1.2551 - val_accuracy: 0.5518\n",
            "Epoch 8/25\n",
            "1607/1607 [==============================] - 86s 54ms/step - loss: 0.8896 - accuracy: 0.6737 - val_loss: 1.3028 - val_accuracy: 0.5355\n",
            "Epoch 9/25\n",
            "1607/1607 [==============================] - 85s 53ms/step - loss: 0.7514 - accuracy: 0.7301 - val_loss: 1.3460 - val_accuracy: 0.5322\n",
            "Epoch 10/25\n",
            "1607/1607 [==============================] - 83s 52ms/step - loss: 0.6137 - accuracy: 0.7843 - val_loss: 1.5894 - val_accuracy: 0.5341\n",
            "Epoch 11/25\n",
            "1607/1607 [==============================] - 84s 52ms/step - loss: 0.5184 - accuracy: 0.8188 - val_loss: 1.4724 - val_accuracy: 0.5430\n",
            "Epoch 12/25\n",
            "1607/1607 [==============================] - 85s 53ms/step - loss: 0.4426 - accuracy: 0.8463 - val_loss: 1.5877 - val_accuracy: 0.5265\n",
            "Epoch 13/25\n",
            "1607/1607 [==============================] - 84s 52ms/step - loss: 0.3723 - accuracy: 0.8729 - val_loss: 1.6361 - val_accuracy: 0.5309\n",
            "Epoch 14/25\n",
            "1607/1607 [==============================] - 84s 52ms/step - loss: 0.3408 - accuracy: 0.8834 - val_loss: 1.7183 - val_accuracy: 0.5504\n",
            "Epoch 15/25\n",
            "1607/1607 [==============================] - 84s 52ms/step - loss: 0.3165 - accuracy: 0.8916 - val_loss: 1.7075 - val_accuracy: 0.5514\n",
            "Epoch 16/25\n",
            "1607/1607 [==============================] - 85s 53ms/step - loss: 0.2778 - accuracy: 0.9052 - val_loss: 1.7193 - val_accuracy: 0.5235\n",
            "Epoch 17/25\n",
            "1607/1607 [==============================] - 85s 53ms/step - loss: 0.2535 - accuracy: 0.9151 - val_loss: 1.8756 - val_accuracy: 0.5556\n",
            "Epoch 18/25\n",
            "1607/1607 [==============================] - 84s 52ms/step - loss: 0.2382 - accuracy: 0.9216 - val_loss: 1.7839 - val_accuracy: 0.5525\n",
            "Epoch 19/25\n",
            "1607/1607 [==============================] - 85s 53ms/step - loss: 0.2221 - accuracy: 0.9255 - val_loss: 1.8467 - val_accuracy: 0.5561\n",
            "Epoch 20/25\n",
            "1607/1607 [==============================] - 85s 53ms/step - loss: 0.2094 - accuracy: 0.9296 - val_loss: 2.0089 - val_accuracy: 0.5591\n",
            "Epoch 21/25\n",
            "1607/1607 [==============================] - 83s 52ms/step - loss: 0.2142 - accuracy: 0.9313 - val_loss: 2.0214 - val_accuracy: 0.5418\n",
            "Epoch 22/25\n",
            "1607/1607 [==============================] - 84s 52ms/step - loss: 0.1910 - accuracy: 0.9385 - val_loss: 2.0525 - val_accuracy: 0.5341\n",
            "Epoch 23/25\n",
            "1607/1607 [==============================] - 84s 52ms/step - loss: 0.1714 - accuracy: 0.9437 - val_loss: 2.0744 - val_accuracy: 0.5560\n",
            "Epoch 24/25\n",
            "1607/1607 [==============================] - 84s 52ms/step - loss: 0.1713 - accuracy: 0.9447 - val_loss: 1.9660 - val_accuracy: 0.5502\n",
            "Epoch 25/25\n",
            "1607/1607 [==============================] - 83s 51ms/step - loss: 0.1819 - accuracy: 0.9407 - val_loss: 2.1878 - val_accuracy: 0.5483\n"
          ],
          "name": "stdout"
        },
        {
          "output_type": "execute_result",
          "data": {
            "text/plain": [
              "<tensorflow.python.keras.callbacks.History at 0x7f038e27a790>"
            ]
          },
          "metadata": {
            "tags": []
          },
          "execution_count": 0
        }
      ]
    },
    {
      "cell_type": "code",
      "metadata": {
        "colab": {
          "background_save": true
        },
        "id": "9Cv7sjWvJSvQ",
        "outputId": "f8156577-4606-40d8-8179-cf37e217606c"
      },
      "source": [
        "CNN.save(\"/content/drive/MyDrive/Data Science, Machine Learning/Colab Notebooks/Deep Learning Projects/Image Recognition/Emotion Detection/Models/Iteration_5\")"
      ],
      "execution_count": null,
      "outputs": [
        {
          "output_type": "stream",
          "text": [
            "INFO:tensorflow:Assets written to: /content/drive/MyDrive/Data Science, Machine Learning/Colab Notebooks/Deep Learning Projects/Image Recognition/Emotion Detection/Models/Iteration_5/assets\n"
          ],
          "name": "stdout"
        }
      ]
    },
    {
      "cell_type": "markdown",
      "metadata": {
        "id": "D2G8HII-4Kw6"
      },
      "source": [
        "###Evaluation\n",
        "\n",
        "Adding dropout didn't work. I will try to increase the dropout."
      ]
    },
    {
      "cell_type": "markdown",
      "metadata": {
        "id": "VG0lSNHXj0dK"
      },
      "source": [
        "#Iteration 6 (increase dropout)"
      ]
    },
    {
      "cell_type": "markdown",
      "metadata": {
        "id": "Grk3P2x5j3sl"
      },
      "source": [
        "###Import images"
      ]
    },
    {
      "cell_type": "code",
      "metadata": {
        "colab": {
          "background_save": true
        },
        "id": "kUlhYOuuj3sl"
      },
      "source": [
        "#Augmentations are gone since augmented images already exists in the dataset now\n",
        "\n",
        "train_gen = tf.keras.preprocessing.image.ImageDataGenerator(\n",
        "    rescale=1./255, #rescales image - this is done after augmentation\n",
        ")"
      ],
      "execution_count": null,
      "outputs": []
    },
    {
      "cell_type": "code",
      "metadata": {
        "colab": {
          "background_save": true
        },
        "id": "fs2MkulUj3sm",
        "outputId": "3cf2b9c5-4b4b-48ac-c3b5-15a66341dc9f"
      },
      "source": [
        "X = train_gen.flow_from_directory(\n",
        "    \"/content/drive/MyDrive/Data Science, Machine Learning/Colab Notebooks/Deep Learning Projects/Image Recognition/Emotion Detection/Data/train\",\n",
        "    target_size=(64,64), #resize for faster training\n",
        "    color_mode=\"grayscale\",\n",
        "    batch_size=32,\n",
        "    classes={'angry': 'angry',\n",
        "             \"disgusted\":\"disgusted\",\n",
        "             \"fearful\":\"fearful\",\n",
        "             \"happy\":\"happy\",\n",
        "             \"neutral\":\"neutral\",\n",
        "             \"sad\":\"sad\",\n",
        "             \"surprised\":\"surprised\"})"
      ],
      "execution_count": null,
      "outputs": [
        {
          "output_type": "stream",
          "text": [
            "Found 51396 images belonging to 7 classes.\n"
          ],
          "name": "stdout"
        }
      ]
    },
    {
      "cell_type": "code",
      "metadata": {
        "colab": {
          "background_save": true
        },
        "id": "ioJ4Z4hmj3sm"
      },
      "source": [
        "validation_generator = tf.keras.preprocessing.image.ImageDataGenerator(\n",
        "    rescale=1./255\n",
        ")"
      ],
      "execution_count": null,
      "outputs": []
    },
    {
      "cell_type": "code",
      "metadata": {
        "colab": {
          "background_save": true
        },
        "id": "NonEhbH3j3sn",
        "outputId": "ea4d203a-4704-4dba-fda1-f6ed8fd5078e"
      },
      "source": [
        "val_data = validation_generator.flow_from_directory(\n",
        "    \"/content/drive/MyDrive/Data Science, Machine Learning/Colab Notebooks/Deep Learning Projects/Image Recognition/Emotion Detection/Data/test\",\n",
        "    target_size=(64,64),\n",
        "    color_mode=\"grayscale\",\n",
        "    batch_size=32,\n",
        "    classes={'angry': 1,\n",
        "             \"disgusted\":\"disgusted\",\n",
        "             \"fearful\":\"fearful\",\n",
        "             \"happy\":\"happy\",\n",
        "             \"neutral\":\"neutral\",\n",
        "             \"sad\":\"sad\",\n",
        "             \"surprised\":\"surprised\"})"
      ],
      "execution_count": null,
      "outputs": [
        {
          "output_type": "stream",
          "text": [
            "Found 7178 images belonging to 7 classes.\n"
          ],
          "name": "stdout"
        }
      ]
    },
    {
      "cell_type": "markdown",
      "metadata": {
        "id": "ezrj6nDhj3sn"
      },
      "source": [
        "##Modelling"
      ]
    },
    {
      "cell_type": "markdown",
      "metadata": {
        "id": "REIetc60j3sn"
      },
      "source": [
        "###Create CNN"
      ]
    },
    {
      "cell_type": "code",
      "metadata": {
        "colab": {
          "background_save": true
        },
        "id": "znkMXCCjj3sp"
      },
      "source": [
        "from tensorflow.keras.models import Sequential\n",
        "from tensorflow.keras.layers import Conv2D, MaxPool2D, Flatten, Dense, Dropout, BatchNormalization, GaussianNoise, Input\n",
        "from keras import regularizers"
      ],
      "execution_count": null,
      "outputs": []
    },
    {
      "cell_type": "code",
      "metadata": {
        "colab": {
          "background_save": true
        },
        "id": "_WFMWjcoj3sq"
      },
      "source": [
        "CNN = Sequential([\n",
        "                  Input(shape=[64,64,1]),\n",
        "                  GaussianNoise(0.1),\n",
        "                  Conv2D(filters=32, kernel_size=3,activation=\"relu\"),\n",
        "                  BatchNormalization(),\n",
        "                  MaxPool2D(pool_size=2, strides=2),\n",
        "                  Conv2D(filters=32, kernel_size=3, activation=\"relu\"),\n",
        "                  BatchNormalization(),\n",
        "                  MaxPool2D(pool_size=2, strides=2),\n",
        "                  Conv2D(filters=32, kernel_size=3, activation=\"relu\"),\n",
        "                  BatchNormalization(),\n",
        "                  MaxPool2D(pool_size=2, strides=2),\n",
        "                  Flatten(),\n",
        "                  Dense(units=4180, activation=\"relu\"),  \n",
        "                  Dropout(0.5), #remove dropout since its underfitting\n",
        "                  Dense(units=4180, activation=\"relu\"),\n",
        "                  Dense(units=4180, activation=\"relu\"),\n",
        "                  Dropout(0.5),\n",
        "                  Dense(units=7, activation=\"softmax\")\n",
        "]\n",
        ")"
      ],
      "execution_count": null,
      "outputs": []
    },
    {
      "cell_type": "markdown",
      "metadata": {
        "id": "7bu-PHVMj3sq"
      },
      "source": [
        "###Compile CNN"
      ]
    },
    {
      "cell_type": "code",
      "metadata": {
        "colab": {
          "background_save": true
        },
        "id": "XA27ekc1j3sq"
      },
      "source": [
        "CNN.compile(optimizer=\"adam\", loss=\"categorical_crossentropy\", metrics=[\"accuracy\"])"
      ],
      "execution_count": null,
      "outputs": []
    },
    {
      "cell_type": "markdown",
      "metadata": {
        "id": "Ww5PC7Fij3sr"
      },
      "source": [
        "###Train CNN"
      ]
    },
    {
      "cell_type": "code",
      "metadata": {
        "colab": {
          "background_save": true
        },
        "id": "6X_6ADaQj3sr",
        "outputId": "7d8a03a2-57c3-4344-c995-fedb4f5fdbfe"
      },
      "source": [
        "CNN.fit(x=X, validation_data=val_data, epochs=25)"
      ],
      "execution_count": null,
      "outputs": [
        {
          "output_type": "stream",
          "text": [
            "Epoch 1/25\n",
            "1607/1607 [==============================] - 83s 51ms/step - loss: 2.0262 - accuracy: 0.2486 - val_loss: 1.7709 - val_accuracy: 0.3083\n",
            "Epoch 2/25\n",
            "1607/1607 [==============================] - 81s 50ms/step - loss: 1.6801 - accuracy: 0.3266 - val_loss: 1.7708 - val_accuracy: 0.2658\n",
            "Epoch 3/25\n",
            "1607/1607 [==============================] - 81s 50ms/step - loss: 1.5947 - accuracy: 0.3716 - val_loss: 1.5618 - val_accuracy: 0.3774\n",
            "Epoch 4/25\n",
            "1607/1607 [==============================] - 81s 50ms/step - loss: 1.5195 - accuracy: 0.4009 - val_loss: 1.4400 - val_accuracy: 0.4255\n",
            "Epoch 5/25\n",
            "1607/1607 [==============================] - 81s 50ms/step - loss: 1.4628 - accuracy: 0.4344 - val_loss: 1.4318 - val_accuracy: 0.4416\n",
            "Epoch 6/25\n",
            "1607/1607 [==============================] - 81s 50ms/step - loss: 1.3894 - accuracy: 0.4623 - val_loss: 1.4446 - val_accuracy: 0.4376\n",
            "Epoch 7/25\n",
            "1607/1607 [==============================] - 81s 50ms/step - loss: 1.3262 - accuracy: 0.4950 - val_loss: 1.8303 - val_accuracy: 0.2891\n",
            "Epoch 8/25\n",
            "1607/1607 [==============================] - 82s 51ms/step - loss: 1.2510 - accuracy: 0.5277 - val_loss: 1.3300 - val_accuracy: 0.4921\n",
            "Epoch 9/25\n",
            "1607/1607 [==============================] - 83s 52ms/step - loss: 1.1511 - accuracy: 0.5682 - val_loss: 1.2721 - val_accuracy: 0.5174\n",
            "Epoch 10/25\n",
            "1607/1607 [==============================] - 84s 52ms/step - loss: 1.0521 - accuracy: 0.6093 - val_loss: 1.2344 - val_accuracy: 0.5341\n",
            "Epoch 11/25\n",
            "1607/1607 [==============================] - 83s 52ms/step - loss: 0.9639 - accuracy: 0.6449 - val_loss: 1.4272 - val_accuracy: 0.4859\n",
            "Epoch 12/25\n",
            "1607/1607 [==============================] - 83s 52ms/step - loss: 0.8718 - accuracy: 0.6839 - val_loss: 1.3117 - val_accuracy: 0.5283\n",
            "Epoch 13/25\n",
            "1607/1607 [==============================] - 83s 52ms/step - loss: 0.7757 - accuracy: 0.7184 - val_loss: 1.2943 - val_accuracy: 0.5458\n",
            "Epoch 14/25\n",
            "1607/1607 [==============================] - 83s 52ms/step - loss: 0.7092 - accuracy: 0.7477 - val_loss: 1.3354 - val_accuracy: 0.5497\n",
            "Epoch 15/25\n",
            "1607/1607 [==============================] - 83s 52ms/step - loss: 0.6357 - accuracy: 0.7745 - val_loss: 1.3506 - val_accuracy: 0.5330\n",
            "Epoch 16/25\n",
            "1607/1607 [==============================] - 82s 51ms/step - loss: 0.5820 - accuracy: 0.7928 - val_loss: 1.4056 - val_accuracy: 0.5241\n",
            "Epoch 17/25\n",
            "1607/1607 [==============================] - 84s 53ms/step - loss: 0.5420 - accuracy: 0.8114 - val_loss: 1.5088 - val_accuracy: 0.5092\n",
            "Epoch 18/25\n",
            "1607/1607 [==============================] - 83s 52ms/step - loss: 0.5053 - accuracy: 0.8211 - val_loss: 1.7804 - val_accuracy: 0.5053\n",
            "Epoch 19/25\n",
            "1607/1607 [==============================] - 83s 52ms/step - loss: 0.4704 - accuracy: 0.8362 - val_loss: 1.3587 - val_accuracy: 0.5460\n",
            "Epoch 20/25\n",
            "1607/1607 [==============================] - 83s 52ms/step - loss: 0.4437 - accuracy: 0.8448 - val_loss: 1.4406 - val_accuracy: 0.5472\n",
            "Epoch 21/25\n",
            "1607/1607 [==============================] - 83s 52ms/step - loss: 0.4188 - accuracy: 0.8577 - val_loss: 1.5083 - val_accuracy: 0.5472\n",
            "Epoch 22/25\n",
            "1607/1607 [==============================] - 84s 52ms/step - loss: 0.4006 - accuracy: 0.8622 - val_loss: 2.6063 - val_accuracy: 0.4852\n",
            "Epoch 23/25\n",
            "1607/1607 [==============================] - 83s 52ms/step - loss: 0.3819 - accuracy: 0.8709 - val_loss: 1.5960 - val_accuracy: 0.5341\n",
            "Epoch 24/25\n",
            "1607/1607 [==============================] - 82s 51ms/step - loss: 0.3662 - accuracy: 0.8749 - val_loss: 1.6293 - val_accuracy: 0.5481\n",
            "Epoch 25/25\n",
            "1607/1607 [==============================] - 85s 53ms/step - loss: 0.3483 - accuracy: 0.8830 - val_loss: 1.5794 - val_accuracy: 0.5513\n"
          ],
          "name": "stdout"
        },
        {
          "output_type": "execute_result",
          "data": {
            "text/plain": [
              "<tensorflow.python.keras.callbacks.History at 0x7f033c385a50>"
            ]
          },
          "metadata": {
            "tags": []
          },
          "execution_count": 0
        }
      ]
    },
    {
      "cell_type": "code",
      "metadata": {
        "colab": {
          "background_save": true
        },
        "id": "5MhY-oPZj3sr",
        "outputId": "59e77411-9662-4f4a-e659-199b6f63d1e6"
      },
      "source": [
        "CNN.save(\"/content/drive/MyDrive/Data Science, Machine Learning/Colab Notebooks/Deep Learning Projects/Image Recognition/Emotion Detection/Models/Iteration_6\")"
      ],
      "execution_count": null,
      "outputs": [
        {
          "output_type": "stream",
          "text": [
            "INFO:tensorflow:Assets written to: /content/drive/MyDrive/Data Science, Machine Learning/Colab Notebooks/Deep Learning Projects/Image Recognition/Emotion Detection/Models/Iteration_6/assets\n"
          ],
          "name": "stdout"
        }
      ]
    },
    {
      "cell_type": "markdown",
      "metadata": {
        "id": "ex9nS4OL4PaC"
      },
      "source": [
        "###Evaluation\n",
        "\n",
        "Increasing the dropout further didn't work. I believe the next step is to increase the amount of data.\n",
        "\n",
        "I'm running out of time, so I will have to cut the project here."
      ]
    },
    {
      "cell_type": "markdown",
      "metadata": {
        "id": "i6HUgVl34X8P"
      },
      "source": [
        "#Final Evaluation\n",
        "\n",
        "Convolutional Neural Networks need a lot of data, since the dimensionality of the data is quite large and therefore complex. If I had the time to continue, I would increase the amount of data even further. 50000 images isn't enough to create a model on something as complex as the human face."
      ]
    }
  ]
}